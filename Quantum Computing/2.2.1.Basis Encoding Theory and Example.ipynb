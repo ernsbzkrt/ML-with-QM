{
  "nbformat": 4,
  "nbformat_minor": 0,
  "metadata": {
    "colab": {
      "provenance": []
    },
    "kernelspec": {
      "name": "python3",
      "display_name": "Python 3"
    },
    "language_info": {
      "name": "python"
    }
  },
  "cells": [
    {
      "cell_type": "markdown",
      "source": [
        "#### **1. Basis Encoding Theory and Applied Example**\n",
        "\n",
        "Basis encoding is the most basic coding method where classical bits are directly mapped to qubits. A classical bit sequence such as `101` corresponds to qubit states `|1⟩|0⟩|1⟩` in the quantum world.\n",
        "\n",
        "- **Technical Details:**\n",
        "  - Classical bits correspond to the states `|0⟩` and `|1⟩`.\n",
        "  - Each classical bit is mapped to a single qubit.\n",
        "  - The classical bit sequence is directly encoded as a qubit sequence.\n",
        "\n",
        "- **Advantages:**\n",
        "  - **Simple and Understandable:** It is the easiest encoding method to implement and understand. Ideal for training and beginner-level quantum algorithms.\n",
        "  - **Low Computational Requirement:** The encoding process does not require complex calculations and is therefore fast.\n",
        "\n",
        "- **Disadvantages:**\n",
        "  - **Low Efficiency:** Basis encoding does not increase data density and is therefore inefficient for large datasets.\n",
        "  - **High Qubit Requirement:** Since one qubit is required for each classical bit, it requires a large number of qubits for large datasets.\n",
        "\n",
        "- **Best Use Cases:**\n",
        "  - **Small Data Sets:** Suitable for datasets with a small number of bits.\n",
        "  - **Simple Quantum Algorithms:** Ideal for simple algorithms for learning and training purposes.\n",
        "\n",
        "- **Worst Use Cases:**\n",
        "  - **Large Data Sets:** Qubit requirement escalates excessively for datasets containing a large number of bits.\n",
        "  - **Complex Algorithms:** Not suitable for algorithms requiring more complex and efficient encoding methods.\n"
      ],
      "metadata": {
        "id": "I4HYKSKj2gre"
      }
    },
    {
      "cell_type": "code",
      "source": [
        "# 1.\n",
        "from qiskit import QuantumCircuit,transpile\n",
        "from qiskit_aer import Aer\n",
        "from qiskit.visualization import plot_histogram\n",
        "import matplotlib.pyplot as plt"
      ],
      "metadata": {
        "id": "TkgXGs5B2n8g"
      },
      "execution_count": 3,
      "outputs": []
    },
    {
      "cell_type": "code",
      "source": [
        "#2.\n",
        "data_set = ['000', '011', '101', '110']\n",
        "backend = Aer.get_backend('aer_simulator')\n",
        "\n",
        "#3. Create a quantum circuit for each data and make measurements\n",
        "for data in data_set:\n",
        "    qc = QuantumCircuit(3, 3)  # 3 qubit, 3 classic bit\n",
        "\n",
        "     # Basis Encoding\n",
        "    for i in range(3):\n",
        "        if data[i] == '1':\n",
        "            qc.x(i)\n",
        "    qc.measure([0, 1, 2], [0, 1, 2])\n",
        "\n",
        "#4. Simulation\n",
        "    compiled_circuit = transpile(qc, backend=backend)\n",
        "    job = backend.run(compiled_circuit, shots=1024)\n",
        "    result = job.result()\n",
        "    counts = result.get_counts()\n",
        "\n",
        "#5. Output\n",
        "    print(f\"Data: {data}\")\n",
        "    qc.draw(output='text')\n",
        "    plt.show()\n",
        "    plot_histogram(counts)\n",
        "    plt.show()"
      ],
      "metadata": {
        "colab": {
          "base_uri": "https://localhost:8080/"
        },
        "id": "vRxHzG2V2o3m",
        "outputId": "ca580356-8e0f-4162-8795-e2ea6c932c33"
      },
      "execution_count": 4,
      "outputs": [
        {
          "output_type": "stream",
          "name": "stdout",
          "text": [
            "Data: 000\n",
            "Data: 011\n",
            "Data: 101\n",
            "Data: 110\n"
          ]
        }
      ]
    },
    {
      "cell_type": "code",
      "source": [
        "#6. Draw Graph.\n",
        "from qiskit.visualization import circuit_drawer\n",
        "qc.draw(output='text')"
      ],
      "metadata": {
        "colab": {
          "base_uri": "https://localhost:8080/",
          "height": 155
        },
        "id": "oGee8ILt2sD2",
        "outputId": "a39f48d0-b75c-4c7d-8f01-60cb1e827e5a"
      },
      "execution_count": 5,
      "outputs": [
        {
          "output_type": "execute_result",
          "data": {
            "text/plain": [
              "     ┌───┐┌─┐   \n",
              "q_0: ┤ X ├┤M├───\n",
              "     ├───┤└╥┘┌─┐\n",
              "q_1: ┤ X ├─╫─┤M├\n",
              "     └┬─┬┘ ║ └╥┘\n",
              "q_2: ─┤M├──╫──╫─\n",
              "      └╥┘  ║  ║ \n",
              "c: 3/══╩═══╩══╩═\n",
              "       2   0  1 "
            ],
            "text/html": [
              "<pre style=\"word-wrap: normal;white-space: pre;background: #fff0;line-height: 1.1;font-family: &quot;Courier New&quot;,Courier,monospace\">     ┌───┐┌─┐   \n",
              "q_0: ┤ X ├┤M├───\n",
              "     ├───┤└╥┘┌─┐\n",
              "q_1: ┤ X ├─╫─┤M├\n",
              "     └┬─┬┘ ║ └╥┘\n",
              "q_2: ─┤M├──╫──╫─\n",
              "      └╥┘  ║  ║ \n",
              "c: 3/══╩═══╩══╩═\n",
              "       2   0  1 </pre>"
            ]
          },
          "metadata": {},
          "execution_count": 5
        }
      ]
    },
    {
      "cell_type": "markdown",
      "source": [
        "**What did we do in this code, and what did we achieve? Let's discuss it briefly.**\n",
        "\n",
        "1. Firstly, we defined a variable named \"data_set\" containing binary arrays to be processed. These can also be referred to as classical data.\n",
        "\n",
        "2. Then, we created a variable named \"backend\" where we used an Aer simulator for simulating quantum circuits.\n",
        "\n",
        "3. Next, for the creation of each quantum circuit and performing measurements:\n",
        "   - We created 3 qubits and 3 classical bits.\n",
        "   - Using a \"for\" loop, we determined the initial state of qubits for each data array. If a bit in the data array is 1, we applied an X gate to the corresponding qubit.\n",
        "   - Finally, with the expression qc.measure([0, 1, 2], [0, 1, 2]), we ensured the measurement of qubits numbered 0, 1, and 2, and their results are written to classical bits.\n",
        "\n",
        "4. Then, we applied simulation and visualization processes to the measurements."
      ],
      "metadata": {
        "id": "9J15Qpuv2wGd"
      }
    },
    {
      "cell_type": "markdown",
      "source": [
        "NOTE!\n",
        "\n",
        "------------------------\n",
        "\n",
        "In this example, the data sets we used consist of numerical values, and we applied an **X Gate** based on whether it's 1 or not. But what if our data set consisted of text strings?\n",
        "\n",
        "Although the question may seem difficult, it actually has a straightforward answer. We could have converted the text strings into a binary representation and still applied X gates. There are several ways to encode text strings into binary. For example, we can convert these values to binary arrays using the ASCII (or Unicode) values of each character.\n",
        "\n",
        "--------------------\n",
        "\n"
      ],
      "metadata": {
        "id": "Eo7H1Gse2zut"
      }
    }
  ]
}