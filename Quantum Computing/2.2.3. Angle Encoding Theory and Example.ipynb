{
  "nbformat": 4,
  "nbformat_minor": 0,
  "metadata": {
    "colab": {
      "provenance": []
    },
    "kernelspec": {
      "name": "python3",
      "display_name": "Python 3"
    },
    "language_info": {
      "name": "python"
    }
  },
  "cells": [
    {
      "cell_type": "markdown",
      "source": [
        "#### **3. Angle Encoding**\n",
        "\n",
        "Angle encoding involves encoding classical data into qubit states as phase angles. For example, a data point can be encoded onto a qubit with an angle θ: |ψ⟩ = cos(θ/2)|0⟩ + sin(θ/2)|1⟩.\n",
        "\n",
        "- **Technical Details:**\n",
        "  - Classical data is represented as phase angles of qubit states.\n",
        "  - Each data point is encoded onto a qubit with an angular value.\n",
        "  - The qubit state becomes a superposition state depending on the phase angle.\n",
        "\n",
        "- **Advantages:**\n",
        "  - **Suitable for Geometric and Phase Angle Problems:** Ideal for geometric data sets and problems requiring phase angles.\n",
        "  - **Compact Encoding:** Represents data in a compact manner.\n",
        "\n",
        "- **Disadvantages:**\n",
        "  - **Difficulty in Determining Phase Angles:** Calculating and applying angles correctly can be complex.\n",
        "  - **Sensitivity to Errors:** A small error in the phase angle can significantly affect the quantum state.\n",
        "\n",
        "- **Best Use Cases:**\n",
        "  - **Geometric Data Sets:** Suitable for data sets involving geometric shapes and phase angle calculations.\n",
        "  - **Algorithms Requiring Angular Calculations:** Ideal for algorithms where phase angle is crucial.\n",
        "\n",
        "- **Worst Use Cases:**\n",
        "  - **Complex Data Sets:** Not suitable for data sets that are difficult to represent with phase angles.\n",
        "  - **Applications with High Phase Sensitivity:** Can cause issues in applications with high sensitivity to phase."
      ],
      "metadata": {
        "id": "rh4HzIkO5DJM"
      }
    },
    {
      "cell_type": "markdown",
      "source": [
        "**Let's discuss this by providing an example.**"
      ],
      "metadata": {
        "id": "1UFPzhgB5Ees"
      }
    },
    {
      "cell_type": "code",
      "source": [
        "# 1.\n",
        "from qiskit import QuantumCircuit,transpile\n",
        "from qiskit_aer import Aer\n",
        "from qiskit.visualization import plot_histogram\n",
        "import matplotlib.pyplot as plt\n",
        "import numpy as np"
      ],
      "metadata": {
        "id": "jq-F304W5Lft"
      },
      "execution_count": 9,
      "outputs": []
    },
    {
      "cell_type": "code",
      "source": [
        "# 2.\n",
        "data_set = ['000', '011', '101', '110']\n",
        "\n",
        "# 3. # A function to convert each string in the data set to an angle\n",
        "def string_to_angles(data_set):\n",
        "    angles = []\n",
        "    for data in data_set:\n",
        "# We convert the string into angles by converting it to an integer and then multiplying it by pi/4\n",
        "        angle = int(data, 2) * np.pi / 4\n",
        "        angles.append(angle)\n",
        "    return angles\n",
        "\n",
        "# Get angles\n",
        "angles = string_to_angles(data_set)\n",
        "\n",
        "# Create quantum circuits for the entire data set\n",
        "quantum_circuits = []\n",
        "\n",
        "for angle in angles:\n",
        "    qc = QuantumCircuit(3)  # We use a 3 qubit system. Because the numbers in the dataset consist of 3 digits.\n",
        "    for i in range(3):\n",
        "        qc.ry(angle, i)\n",
        "    quantum_circuits.append(qc)"
      ],
      "metadata": {
        "id": "hCBAIEr25MT0"
      },
      "execution_count": 10,
      "outputs": []
    },
    {
      "cell_type": "code",
      "source": [
        "#\n",
        "simulator = Aer.get_backend('statevector_simulator')\n",
        "for qc in quantum_circuits:\n",
        "    print(qc)\n",
        "    compiled_circuit = transpile(qc, simulator)\n",
        "    job = simulator.run(compiled_circuit, shots=1024)\n",
        "    result = job.result()\n",
        "    statevector = result.get_statevector()\n",
        "    print(\"Statevector:\", statevector)"
      ],
      "metadata": {
        "colab": {
          "base_uri": "https://localhost:8080/"
        },
        "id": "MhzAk7rF5PW1",
        "outputId": "07c7ee27-33d7-4819-e7fa-51d966ee57f1"
      },
      "execution_count": 11,
      "outputs": [
        {
          "output_type": "stream",
          "name": "stdout",
          "text": [
            "     ┌───────┐\n",
            "q_0: ┤ Ry(0) ├\n",
            "     ├───────┤\n",
            "q_1: ┤ Ry(0) ├\n",
            "     ├───────┤\n",
            "q_2: ┤ Ry(0) ├\n",
            "     └───────┘\n",
            "Statevector: Statevector([1.+0.j, 0.+0.j, 0.+0.j, 0.+0.j, 0.+0.j, 0.+0.j, 0.+0.j,\n",
            "             0.+0.j],\n",
            "            dims=(2, 2, 2))\n",
            "     ┌──────────┐\n",
            "q_0: ┤ Ry(3π/4) ├\n",
            "     ├──────────┤\n",
            "q_1: ┤ Ry(3π/4) ├\n",
            "     ├──────────┤\n",
            "q_2: ┤ Ry(3π/4) ├\n",
            "     └──────────┘\n",
            "Statevector: Statevector([0.05604269+0.j, 0.13529903+0.j, 0.13529903+0.j,\n",
            "             0.32664074+0.j, 0.13529903+0.j, 0.32664074+0.j,\n",
            "             0.32664074+0.j, 0.78858051+0.j],\n",
            "            dims=(2, 2, 2))\n",
            "     ┌──────────┐\n",
            "q_0: ┤ Ry(5π/4) ├\n",
            "     ├──────────┤\n",
            "q_1: ┤ Ry(5π/4) ├\n",
            "     ├──────────┤\n",
            "q_2: ┤ Ry(5π/4) ├\n",
            "     └──────────┘\n",
            "Statevector: Statevector([-0.05604269+0.j,  0.13529903-0.j,  0.13529903+0.j,\n",
            "             -0.32664074+0.j,  0.13529903+0.j, -0.32664074+0.j,\n",
            "             -0.32664074+0.j,  0.78858051+0.j],\n",
            "            dims=(2, 2, 2))\n",
            "     ┌──────────┐\n",
            "q_0: ┤ Ry(3π/2) ├\n",
            "     ├──────────┤\n",
            "q_1: ┤ Ry(3π/2) ├\n",
            "     ├──────────┤\n",
            "q_2: ┤ Ry(3π/2) ├\n",
            "     └──────────┘\n",
            "Statevector: Statevector([-0.35355339+0.j,  0.35355339-0.j,  0.35355339+0.j,\n",
            "             -0.35355339+0.j,  0.35355339+0.j, -0.35355339+0.j,\n",
            "             -0.35355339+0.j,  0.35355339+0.j],\n",
            "            dims=(2, 2, 2))\n"
          ]
        }
      ]
    },
    {
      "cell_type": "markdown",
      "source": [
        "*These circuits and state vectors involve three qubits instead of a single qubit. Each qubit is rotated using the \"Ry\" gate. These gates, denoted as Ry(rotation angle), change the state of a qubit.*\n",
        "\n",
        "*In the first circuit, all qubits have a rotation angle of 0, corresponding to the base state |0⟩.*\n",
        "\n",
        "*In the second circuit, all qubits have a rotation angle of 3π/4. In this case, the amplitudes of |000⟩, |001⟩, |010⟩, and |011⟩ states are increased in the state vector.*\n",
        "\n",
        "*In the third circuit, all qubits have a rotation angle of 5π/4. Here, the amplitudes of |000⟩, |001⟩, |010⟩, and |011⟩ states are inverted in the state vector.*\n",
        "\n",
        "*In the last circuit, all qubits have a rotation angle of 3π/2. In this case, the amplitudes of |000⟩ and |011⟩ states are inverted in the state vector.*\n",
        "\n",
        "*By changing the rotation angle for each qubit in these circuits, we can obtain different states. These states are determined by the phase angles of the qubits and represented with different amplitudes in the state vector.*"
      ],
      "metadata": {
        "id": "iQmSKOfY5p3e"
      }
    }
  ]
}