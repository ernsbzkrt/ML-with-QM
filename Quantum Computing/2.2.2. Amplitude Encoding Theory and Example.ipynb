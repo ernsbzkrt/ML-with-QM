{
  "nbformat": 4,
  "nbformat_minor": 0,
  "metadata": {
    "colab": {
      "provenance": []
    },
    "kernelspec": {
      "name": "python3",
      "display_name": "Python 3"
    },
    "language_info": {
      "name": "python"
    }
  },
  "cells": [
    {
      "cell_type": "markdown",
      "source": [
        "#### **2. Amplitude Encoding Theory and Application Example**\n",
        "\n",
        "Amplitude encoding is a method where classical data is represented by the amplitudes of quantum states. For example, `x` and `y` data can be encoded into a superposition state such as `a|0⟩ + b|1⟩`.\n",
        "\n",
        "- **Technical Details:**\n",
        "  - Classical data is encoded as the amplitudes of quantum states.\n",
        "  - An `n`-dimensional classical data vector can be encoded into a `2^n`-dimensional quantum state.\n",
        "  - The amplitudes are represented as normalized amplitudes of classical data.\n",
        "\n",
        "- **Advantages:**\n",
        "  - **Compact Encoding of Large Data Sets:** Amplitude encoding can encode large data sets compactly, increasing data density.\n",
        "  - **Quantum Parallelism:** It can shorten computation times by leveraging quantum parallelism.\n",
        "\n",
        "- **Disadvantages:**\n",
        "  - **Complex Encoding Process:** Calculating and normalizing amplitudes can be complex.\n",
        "  - **Low Error Tolerance:** Even a small error can significantly impact results.\n",
        "\n",
        "- **Best Use Cases:**\n",
        "  - **Large and Complex Data Sets:** Especially advantageous for processing large data sets.\n",
        "  - **Machine Learning Applications:** Suitable for quantum machine learning algorithms.\n",
        "\n",
        "- **Worst Use Cases:**\n",
        "  - **Small Data Sets:** Overly complex for small data sets.\n",
        "  - **Applications Sensitive to Errors:** Sensitivity to errors can be problematic in critical applications.\n"
      ],
      "metadata": {
        "id": "weDKeATl3bJ2"
      }
    },
    {
      "cell_type": "markdown",
      "source": [
        "**Let's do an example right away.**"
      ],
      "metadata": {
        "id": "ykKSEraA3fjA"
      }
    },
    {
      "cell_type": "code",
      "source": [
        "# 1.\n",
        "from qiskit import QuantumCircuit,transpile\n",
        "from qiskit_aer import Aer\n",
        "from qiskit.visualization import plot_histogram\n",
        "import matplotlib.pyplot as plt\n",
        "import numpy as np"
      ],
      "metadata": {
        "id": "XU1iOnMF3kn9"
      },
      "execution_count": 6,
      "outputs": []
    },
    {
      "cell_type": "code",
      "source": [
        "#2.\n",
        "data_set = ['000', '011', '101', '110']\n",
        "\n",
        "#3.\n",
        "counts = [int(x, 2) for x in data_set]\n",
        "norm = np.linalg.norm(counts)\n",
        "normalized_data = [x / norm for x in counts]\n",
        "\n",
        "#4.\n",
        "num_qubits = int(np.log2(len(normalized_data)))\n",
        "qc = QuantumCircuit(num_qubits)\n",
        "\n",
        "#5. Amplitude Encoding\n",
        "qc.initialize(normalized_data, [i for i in range(num_qubits)])\n",
        "\n",
        "#6.\n",
        "print(qc)"
      ],
      "metadata": {
        "colab": {
          "base_uri": "https://localhost:8080/"
        },
        "id": "2xW4FVxI3mMk",
        "outputId": "d2b26640-0bf9-4f46-963a-777f9485c37b"
      },
      "execution_count": 7,
      "outputs": [
        {
          "output_type": "stream",
          "name": "stdout",
          "text": [
            "     ┌────────────────────────────────────────┐\n",
            "q_0: ┤0                                       ├\n",
            "     │  Initialize(0,0.35857,0.59761,0.71714) │\n",
            "q_1: ┤1                                       ├\n",
            "     └────────────────────────────────────────┘\n"
          ]
        }
      ]
    },
    {
      "cell_type": "code",
      "source": [
        "#7\n",
        "compiled_circuit = transpile(qc, backend=backend)\n",
        "backend = Aer.get_backend('statevector_simulator')\n",
        "job = backend.run(compiled_circuit, shots=1024)\n",
        "result = job.result()\n",
        "\n",
        "#8.\n",
        "statevector = result.get_statevector(qc)\n",
        "print(\"Statevector:\", statevector)"
      ],
      "metadata": {
        "colab": {
          "base_uri": "https://localhost:8080/"
        },
        "id": "WBS3B5vL3oBU",
        "outputId": "c3f58296-7749-43b9-cd47-6f7d34a787d2"
      },
      "execution_count": 8,
      "outputs": [
        {
          "output_type": "stream",
          "name": "stdout",
          "text": [
            "Statevector: Statevector([0.        +0.j, 0.35856858+0.j, 0.5976143 +0.j,\n",
            "             0.71713717+0.j],\n",
            "            dims=(2, 2))\n"
          ]
        }
      ]
    },
    {
      "cell_type": "markdown",
      "source": [
        "It's worth discussing the output here because there's a significant difference between what we have now and what we initially had.\n",
        "\n",
        "The **Statevector** we obtained represents the amplitudes of all possible states in the quantum circuit. Each value represents the amplitude of a state in the quantum circuit.\n",
        "\n",
        "To interpret these **Statevector amplitudes**:\n",
        "- **0. +0.j:** The amplitude of the first state (when binary converted, it represents |00⟩) is zero. This state represents 000 in our data set.\n",
        "- **0.35856858+0.j:** The amplitude of the second state (when binary converted, it represents |01⟩) is approximately 0.35856858. This state represents 011 in our data set.\n",
        "- **0.5976143 +0.j:** The amplitude of the third state (when binary converted, it represents |10⟩) is approximately 0.5976143. This state represents 101 in our data set.\n",
        "- **0.71713717+0.j:** The amplitude of the fourth state (when binary converted, it represents |11⟩) is approximately 0.71713717. This state represents 110 in our data set.\n",
        "\n",
        "**So, what are these data in general?**\n",
        "\n",
        "*These data, or normalized data, are the encoded data into the quantum circuit. These amplitudes form the superposition of quantum states.*\n",
        "\n"
      ],
      "metadata": {
        "id": "zmSFgDJY4X8N"
      }
    }
  ]
}