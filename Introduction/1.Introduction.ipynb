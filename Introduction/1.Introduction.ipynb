{
  "nbformat": 4,
  "nbformat_minor": 0,
  "metadata": {
    "colab": {
      "provenance": []
    },
    "kernelspec": {
      "name": "python3",
      "display_name": "Python 3"
    },
    "language_info": {
      "name": "python"
    }
  },
  "cells": [
    {
      "cell_type": "markdown",
      "source": [
        "*This section will be the first part of a longer section where we'll discuss Machine Learning on Quantum Computers.*\n",
        "\n",
        "*In this introductory part, we'll delve into what quantum machine learning is and how it's considered a subfield of quantum computation. We'll also attempt to provide an overview of which higher-level approaches have been adopted. Later on, we'll give an example based on a very small interference circuit to understand how learning from data with quantum computers occurs and discuss the details.*"
      ],
      "metadata": {
        "id": "wU8fHpCuxlUL"
      }
    },
    {
      "cell_type": "markdown",
      "source": [
        "Before diving deep into the subject, let's start by defining the concept of machine learning. Machine learning can be defined as the science of teaching computers how to learn from data to solve certain problems rather than being explicitly programmed. Quantum computation, on the other hand, is a general term given to information processing operations with devices based on the laws of quantum theory. Figuring out how to combine these two defined concepts is a natural and significant challenge. Indeed, this question has led to the emergence of a new discipline: **Quantum Machine Learning**.\n",
        "\n",
        "The simplest definition of this discipline can be expressed as the concept or approaches formed by the combination of quantum information processing mechanisms with machine learning algorithms. Researchers in this field today are exploring how mathematical techniques from quantum theory can help develop new methods in machine learning or how machine learning algorithms can be used to analyze measurement data from quantum experiments."
      ],
      "metadata": {
        "id": "bekQV-MnyBu0"
      }
    }
  ]
}